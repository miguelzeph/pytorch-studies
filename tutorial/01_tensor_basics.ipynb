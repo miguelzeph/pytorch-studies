{
 "cells": [
  {
   "cell_type": "code",
   "execution_count": 2,
   "id": "9e1037bc-4dd7-48e7-a502-31d6f91095be",
   "metadata": {},
   "outputs": [],
   "source": [
    "import torch"
   ]
  },
  {
   "cell_type": "code",
   "execution_count": null,
   "id": "6f606e7d-8907-4c95-9853-65a3339cb5c0",
   "metadata": {},
   "outputs": [],
   "source": []
  },
  {
   "cell_type": "code",
   "execution_count": 6,
   "id": "b5aceca9-e800-4df6-beea-7393cbf4108c",
   "metadata": {},
   "outputs": [
    {
     "data": {
      "text/plain": [
       "tensor([[-8.6433e+15,  3.1525e-41],\n",
       "        [ 0.0000e+00,  0.0000e+00]])"
      ]
     },
     "execution_count": 6,
     "metadata": {},
     "output_type": "execute_result"
    }
   ],
   "source": [
    "x = torch.empty(2,2)\n",
    "x"
   ]
  },
  {
   "cell_type": "code",
   "execution_count": 5,
   "id": "6d38ff1a-59c9-4052-aaba-5b056d82a64b",
   "metadata": {},
   "outputs": [
    {
     "data": {
      "text/plain": [
       "tensor([[0.3090, 0.9028],\n",
       "        [0.7395, 0.0161]])"
      ]
     },
     "execution_count": 5,
     "metadata": {},
     "output_type": "execute_result"
    }
   ],
   "source": [
    "x = torch.rand(2,2)\n",
    "x"
   ]
  },
  {
   "cell_type": "code",
   "execution_count": 13,
   "id": "c52c3811-b0c8-4165-a958-4c3a59e9f6ad",
   "metadata": {},
   "outputs": [
    {
     "data": {
      "text/plain": [
       "tensor([[1., 1.],\n",
       "        [1., 1.]])"
      ]
     },
     "execution_count": 13,
     "metadata": {},
     "output_type": "execute_result"
    }
   ],
   "source": [
    "x = torch.ones(2,2)\n",
    "x"
   ]
  },
  {
   "cell_type": "code",
   "execution_count": 14,
   "id": "e21dab56-8db0-42b4-81b6-572e2fd90928",
   "metadata": {},
   "outputs": [
    {
     "name": "stdout",
     "output_type": "stream",
     "text": [
      "torch.Size([2, 2])\n",
      "torch.float32\n"
     ]
    }
   ],
   "source": [
    "print(x.size())\n",
    "print(x.dtype)\n",
    "peinr("
   ]
  },
  {
   "cell_type": "code",
   "execution_count": 17,
   "id": "b4812b0f-3bd2-47e5-afb8-c28474e801b2",
   "metadata": {},
   "outputs": [
    {
     "data": {
      "text/plain": [
       "tensor([2.5000, 0.1000])"
      ]
     },
     "execution_count": 17,
     "metadata": {},
     "output_type": "execute_result"
    }
   ],
   "source": [
    "x = torch.tensor([2.5, 0.1])\n",
    "x"
   ]
  },
  {
   "cell_type": "code",
   "execution_count": null,
   "id": "2069553b-4a6c-45b6-a1bd-6472e39ad957",
   "metadata": {},
   "outputs": [],
   "source": []
  },
  {
   "cell_type": "markdown",
   "id": "e3a72ecc-6da1-429d-91b5-a3fc0234d005",
   "metadata": {},
   "source": [
    "### Basic operation with Tensors"
   ]
  },
  {
   "cell_type": "code",
   "execution_count": 20,
   "id": "4659596c-6f00-41a9-aff8-10c7f3ab5d24",
   "metadata": {},
   "outputs": [
    {
     "name": "stdout",
     "output_type": "stream",
     "text": [
      "tensor([[1.0518, 0.8527],\n",
      "        [1.4386, 0.5527]])\n",
      "tensor([[1.0518, 0.8527],\n",
      "        [1.4386, 0.5527]])\n",
      "tensor([[1.0518, 0.8527],\n",
      "        [1.4386, 0.5527]])\n"
     ]
    }
   ],
   "source": [
    "x = torch.rand(2,2)\n",
    "y = torch.rand(2,2)\n",
    "\n",
    "z = x + y\n",
    "print(z)\n",
    "z = torch.add(x,y)\n",
    "print(z)\n",
    "y.add_(x) # Modify the y!!!\n",
    "print(y)"
   ]
  },
  {
   "cell_type": "code",
   "execution_count": 21,
   "id": "a69bf3fe-8169-4010-9806-5611e96d9563",
   "metadata": {},
   "outputs": [
    {
     "data": {
      "text/plain": [
       "tensor([[-0.2012, -0.4596],\n",
       "        [-0.7239, -0.1845]])"
      ]
     },
     "execution_count": 21,
     "metadata": {},
     "output_type": "execute_result"
    }
   ],
   "source": [
    "z = x-y\n",
    "z"
   ]
  },
  {
   "cell_type": "code",
   "execution_count": 23,
   "id": "aedaf5a0-8065-40f6-b122-38734697a929",
   "metadata": {},
   "outputs": [
    {
     "data": {
      "text/plain": [
       "tensor([[0.8946, 0.3352],\n",
       "        [1.0283, 0.2036]])"
      ]
     },
     "execution_count": 23,
     "metadata": {},
     "output_type": "execute_result"
    }
   ],
   "source": [
    "z = x*y\n",
    "z"
   ]
  },
  {
   "cell_type": "code",
   "execution_count": 24,
   "id": "59a68846-a5c7-4568-b6a4-bdb1ea8d048e",
   "metadata": {},
   "outputs": [
    {
     "data": {
      "text/plain": [
       "tensor([[0.8087, 0.4610],\n",
       "        [0.4968, 0.6663]])"
      ]
     },
     "execution_count": 24,
     "metadata": {},
     "output_type": "execute_result"
    }
   ],
   "source": [
    "z = x/y\n",
    "z"
   ]
  },
  {
   "cell_type": "code",
   "execution_count": null,
   "id": "812fddac-d05e-4520-9d3e-a23fdd6bb949",
   "metadata": {},
   "outputs": [],
   "source": []
  },
  {
   "cell_type": "code",
   "execution_count": 30,
   "id": "3a4d9fc2-2564-4960-95d3-937958c55ff4",
   "metadata": {},
   "outputs": [
    {
     "name": "stdout",
     "output_type": "stream",
     "text": [
      "tensor([[0.0376, 0.9411, 0.8936],\n",
      "        [0.3231, 0.1507, 0.5356],\n",
      "        [0.5002, 0.7505, 0.8335],\n",
      "        [0.5705, 0.4134, 0.7955],\n",
      "        [0.8993, 0.9822, 0.4928]])\n",
      "tensor([0.0376, 0.3231, 0.5002, 0.5705, 0.8993])\n",
      "tensor([0.0376, 0.9411, 0.8936])\n",
      "tensor(0.1507)\n"
     ]
    }
   ],
   "source": [
    "x = torch.rand(5,3)\n",
    "print(x)\n",
    "print(x[:,0]) # get all Rows but only the collumn zero\n",
    "print(x[0,:]) # get all Collumn but only the Row 0\n",
    "print(x[1,1]) # get one element"
   ]
  },
  {
   "cell_type": "code",
   "execution_count": null,
   "id": "2c997819-4b1b-46ff-bfd2-04e51b114221",
   "metadata": {},
   "outputs": [],
   "source": []
  },
  {
   "cell_type": "markdown",
   "id": "24eed259-26fb-4584-83d5-e421d3ecc0ac",
   "metadata": {},
   "source": [
    "### Reshaping"
   ]
  },
  {
   "cell_type": "code",
   "execution_count": 31,
   "id": "e43cf808-8747-43ea-b586-2054a04e7449",
   "metadata": {},
   "outputs": [
    {
     "name": "stdout",
     "output_type": "stream",
     "text": [
      "tensor([[0.4155, 0.1964, 0.8289, 0.0484],\n",
      "        [0.5592, 0.7164, 0.1406, 0.1738],\n",
      "        [0.3223, 0.8165, 0.8707, 0.8817],\n",
      "        [0.8707, 0.9714, 0.2400, 0.1325]])\n"
     ]
    }
   ],
   "source": [
    "x = torch.rand(4,4)\n",
    "print(x)"
   ]
  },
  {
   "cell_type": "code",
   "execution_count": 40,
   "id": "d2ce6b02-ce8b-430d-895b-12a98fe4b0c5",
   "metadata": {},
   "outputs": [
    {
     "data": {
      "text/plain": [
       "tensor([0.4155, 0.1964, 0.8289, 0.0484, 0.5592, 0.7164, 0.1406, 0.1738, 0.3223,\n",
       "        0.8165, 0.8707, 0.8817, 0.8707, 0.9714, 0.2400, 0.1325])"
      ]
     },
     "execution_count": 40,
     "metadata": {},
     "output_type": "execute_result"
    }
   ],
   "source": [
    "x.view(16)"
   ]
  },
  {
   "cell_type": "code",
   "execution_count": null,
   "id": "043c7feb-59fb-4992-8100-8d9f2180b213",
   "metadata": {},
   "outputs": [],
   "source": []
  },
  {
   "cell_type": "code",
   "execution_count": 42,
   "id": "7e7ed3a0-f262-43be-935e-6ef722666b68",
   "metadata": {},
   "outputs": [],
   "source": [
    "import numpy as np"
   ]
  },
  {
   "cell_type": "code",
   "execution_count": 44,
   "id": "aba303b9-52b0-43ae-a949-9eba567f1439",
   "metadata": {},
   "outputs": [
    {
     "name": "stdout",
     "output_type": "stream",
     "text": [
      "tensor([1., 1., 1., 1., 1.])\n",
      "<class 'numpy.ndarray'>\n"
     ]
    }
   ],
   "source": [
    "a = torch.ones(5)\n",
    "print(a)\n",
    "b = a.numpy()\n",
    "print(type(b))"
   ]
  }
 ],
 "metadata": {
  "kernelspec": {
   "display_name": "Python 3 (ipykernel)",
   "language": "python",
   "name": "python3"
  },
  "language_info": {
   "codemirror_mode": {
    "name": "ipython",
    "version": 3
   },
   "file_extension": ".py",
   "mimetype": "text/x-python",
   "name": "python",
   "nbconvert_exporter": "python",
   "pygments_lexer": "ipython3",
   "version": "3.12.0"
  }
 },
 "nbformat": 4,
 "nbformat_minor": 5
}
