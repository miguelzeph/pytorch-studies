{
 "cells": [
  {
   "cell_type": "markdown",
   "id": "e751e764-5af4-44aa-82c7-909c07068467",
   "metadata": {},
   "source": [
    "## Gradient Calculation with Autograd"
   ]
  },
  {
   "cell_type": "code",
   "execution_count": 1,
   "id": "94720e0e-b0b9-4bf6-9640-d7ef1c1d1426",
   "metadata": {},
   "outputs": [],
   "source": [
    "import torch"
   ]
  },
  {
   "cell_type": "code",
   "execution_count": 29,
   "id": "5f498b31-a3a2-4a48-b733-a3bed4630655",
   "metadata": {},
   "outputs": [
    {
     "name": "stdout",
     "output_type": "stream",
     "text": [
      "tensor([-0.7174, -0.1713,  0.9852], requires_grad=True)\n",
      "tensor([1.2826, 1.8287, 2.9852], grad_fn=<AddBackward0>)\n",
      "tensor(9.2672, grad_fn=<MeanBackward0>)\n"
     ]
    },
    {
     "data": {
      "text/plain": [
       "tensor([1.7101, 2.4382, 3.9803])"
      ]
     },
     "execution_count": 29,
     "metadata": {},
     "output_type": "execute_result"
    }
   ],
   "source": [
    "x = torch.randn(3, requires_grad=True)\n",
    "print(x)\n",
    "y = x + 2\n",
    "print(y)\n",
    "z = y*y*2\n",
    "z = z.mean()\n",
    "print(z)\n",
    "\n",
    "z.backward() # dz/dx\n",
    "\n",
    "x.grad"
   ]
  },
  {
   "cell_type": "code",
   "execution_count": null,
   "id": "a02f98df-5afa-4752-9cf0-acb4b23ca77a",
   "metadata": {},
   "outputs": [],
   "source": []
  }
 ],
 "metadata": {
  "kernelspec": {
   "display_name": "Python 3 (ipykernel)",
   "language": "python",
   "name": "python3"
  },
  "language_info": {
   "codemirror_mode": {
    "name": "ipython",
    "version": 3
   },
   "file_extension": ".py",
   "mimetype": "text/x-python",
   "name": "python",
   "nbconvert_exporter": "python",
   "pygments_lexer": "ipython3",
   "version": "3.12.0"
  }
 },
 "nbformat": 4,
 "nbformat_minor": 5
}
